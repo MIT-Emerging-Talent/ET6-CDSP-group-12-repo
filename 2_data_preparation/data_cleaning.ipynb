{
 "cells": [
  {
   "cell_type": "markdown",
   "id": "3941eeab",
   "metadata": {},
   "source": [
    "```markdown\n",
    "# In this notebook we will clean the raw datasets we have for migrants and global crypto adoption index\n",
    "\n",
    "We first need to import the required libraries.\n",
    "```"
   ]
  },
  {
   "cell_type": "code",
   "execution_count": 1,
   "id": "5cf80d96",
   "metadata": {},
   "outputs": [],
   "source": [
    "import pandas as pd\n",
    "import numpy as np"
   ]
  },
  {
   "cell_type": "markdown",
   "id": "544b75ee",
   "metadata": {},
   "source": [
    "## Importing the Global Crypto Adoption Dataset\n",
    "\n",
    "We begin by importing the **Global Crypto Adoption** dataset.\n",
    "\n",
    "📂 **Source**: [Global Crypto Adoption Dataset](https://github.com/MIT-Emerging-Talent/ET6-CDSP-group-12-repo/tree/main/1_datasets/raw_datasets_files)\n",
    "\n",
    "The dataset contains information on cryptocurrency adoption rates across various countries and will be used for further analysis and visualization.\n",
    "\n",
    "We'll first load the dataset into a DataFrame using `pandas` and then inspect its structure.\n"
   ]
  },
  {
   "cell_type": "code",
   "execution_count": null,
   "id": "361dffe9",
   "metadata": {},
   "outputs": [],
   "source": []
  }
 ],
 "metadata": {
  "kernelspec": {
   "display_name": "Python 3",
   "language": "python",
   "name": "python3"
  },
  "language_info": {
   "codemirror_mode": {
    "name": "ipython",
    "version": 3
   },
   "file_extension": ".py",
   "mimetype": "text/x-python",
   "name": "python",
   "nbconvert_exporter": "python",
   "pygments_lexer": "ipython3",
   "version": "3.9.12"
  }
 },
 "nbformat": 4,
 "nbformat_minor": 5
}
