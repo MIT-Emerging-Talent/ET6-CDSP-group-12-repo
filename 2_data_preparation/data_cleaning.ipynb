{
 "cells": [
  {
   "cell_type": "markdown",
   "id": "3941eeab",
   "metadata": {},
   "source": [
    "```markdown\n",
    "# In this notebook we will clean the raw datasets we have for migrants and global crypto adoption index\n",
    "\n",
    "We first need to import the required libraries.\n",
    "```"
   ]
  },
  {
   "cell_type": "code",
   "execution_count": 4,
   "id": "5cf80d96",
   "metadata": {},
   "outputs": [
    {
     "name": "stdout",
     "output_type": "stream",
     "text": [
      "Collecting openpyxl\n",
      "  Downloading openpyxl-3.1.5-py2.py3-none-any.whl.metadata (2.5 kB)\n",
      "Collecting et-xmlfile (from openpyxl)\n",
      "  Downloading et_xmlfile-2.0.0-py3-none-any.whl.metadata (2.7 kB)\n",
      "Downloading openpyxl-3.1.5-py2.py3-none-any.whl (250 kB)\n",
      "Downloading et_xmlfile-2.0.0-py3-none-any.whl (18 kB)\n",
      "Installing collected packages: et-xmlfile, openpyxl\n",
      "Successfully installed et-xmlfile-2.0.0 openpyxl-3.1.5\n"
     ]
    },
    {
     "name": "stderr",
     "output_type": "stream",
     "text": [
      "\n",
      "[notice] A new release of pip is available: 25.0.1 -> 25.1.1\n",
      "[notice] To update, run: python.exe -m pip install --upgrade pip\n"
     ]
    }
   ],
   "source": [
    "import pandas as pd\n",
    "import numpy as np\n",
    "!pip install openpyxl\n",
    "from openpyxl import load_workbook"
   ]
  },
  {
   "cell_type": "markdown",
   "id": "544b75ee",
   "metadata": {},
   "source": [
    "## Importing the Global Crypto Adoption Dataset\n",
    "\n",
    "We begin by importing the **Global Crypto Adoption** dataset.\n",
    "\n",
    "📂 **Source**: [Global Crypto Adoption Dataset](https://github.com/MIT-Emerging-Talent/ET6-CDSP-group-12-repo/tree/main/1_datasets/raw_datasets_files)\n",
    "\n",
    "The dataset contains information on cryptocurrency adoption rates across various countries and will be used for further analysis and visualization.\n",
    "\n",
    "We'll first load the dataset into a DataFrame using `pandas` and then inspect its structure.\n"
   ]
  },
  {
   "cell_type": "code",
   "execution_count": 17,
   "id": "361dffe9",
   "metadata": {},
   "outputs": [
    {
     "name": "stdout",
     "output_type": "stream",
     "text": [
      "   Rank        Country                                      Region  \\\n",
      "0     1          India  Central & Southern Asia and Oceania (CSAO)   \n",
      "1     2        Nigeria                          Sub-Saharan Africa   \n",
      "2     3      Indonesia  Central & Southern Asia and Oceania (CSAO)   \n",
      "3     4  United States                               North America   \n",
      "4     5        Vietnam  Central & Southern Asia and Oceania (CSAO)   \n",
      "\n",
      "   Overall Index Ranking  Centralized Service Value Received Ranking  \\\n",
      "0                      1                                           1   \n",
      "1                      2                                           5   \n",
      "2                      3                                           6   \n",
      "3                      4                                           2   \n",
      "4                      5                                           3   \n",
      "\n",
      "   Retail Centralized Service Value Received Ranking  \\\n",
      "0                                                  1   \n",
      "1                                                  2   \n",
      "2                                                  6   \n",
      "3                                                 12   \n",
      "4                                                  3   \n",
      "\n",
      "   DeFi Value Received Ranking  Retail DeFi Value Received Ranking  \n",
      "0                            3                                   2  \n",
      "1                            2                                   3  \n",
      "2                            1                                   1  \n",
      "3                            4                                   4  \n",
      "4                            6                                   5  \n"
     ]
    }
   ],
   "source": [
    "# Importing the Global Crypto Adoption Dataset\n",
    "\n",
    "# Link to raw Excel file\n",
    "url = \"https://raw.githubusercontent.com/MIT-Emerging-Talent/ET6-CDSP-group-12-repo/data_cleaning/1_datasets/raw_datasets_files/The_Global_crypto_Adoption_Index_2022_to_2024.xlsx\"\n",
    "\n",
    "# Sheet names (as you said)\n",
    "GCAI_2022 = \"The 2022 Global crypto Adoption\"\n",
    "GCAI_2023 = \"The 2023 Global crypto Adoption\"\n",
    "GCAI_2024 = \"The 2024 Global crypto Adoption\"\n",
    "\n",
    "# Read each sheet\n",
    "df_2022 = pd.read_excel(url, sheet_name=GCAI_2022)\n",
    "df_2023 = pd.read_excel(url, sheet_name=GCAI_2023)\n",
    "df_2024 = pd.read_excel(url, sheet_name=GCAI_2024)\n",
    "\n",
    "\n",
    "# Optional: View the first few rows\n",
    "print(df_2024.head())\n"
   ]
  },
  {
   "cell_type": "code",
   "execution_count": 23,
   "id": "a8dd9fc7",
   "metadata": {},
   "outputs": [
    {
     "data": {
      "text/html": [
       "<div>\n",
       "<style scoped>\n",
       "    .dataframe tbody tr th:only-of-type {\n",
       "        vertical-align: middle;\n",
       "    }\n",
       "\n",
       "    .dataframe tbody tr th {\n",
       "        vertical-align: top;\n",
       "    }\n",
       "\n",
       "    .dataframe thead th {\n",
       "        text-align: right;\n",
       "    }\n",
       "</style>\n",
       "<table border=\"1\" class=\"dataframe\">\n",
       "  <thead>\n",
       "    <tr style=\"text-align: right;\">\n",
       "      <th></th>\n",
       "      <th>Rank</th>\n",
       "      <th>Country</th>\n",
       "      <th>Region</th>\n",
       "      <th>Year</th>\n",
       "    </tr>\n",
       "  </thead>\n",
       "  <tbody>\n",
       "    <tr>\n",
       "      <th>0</th>\n",
       "      <td>1</td>\n",
       "      <td>India</td>\n",
       "      <td>Central &amp; Southern Asia and Oceania (CSAO)</td>\n",
       "      <td>2024</td>\n",
       "    </tr>\n",
       "    <tr>\n",
       "      <th>1</th>\n",
       "      <td>2</td>\n",
       "      <td>Nigeria</td>\n",
       "      <td>Sub-Saharan Africa</td>\n",
       "      <td>2024</td>\n",
       "    </tr>\n",
       "    <tr>\n",
       "      <th>2</th>\n",
       "      <td>3</td>\n",
       "      <td>Indonesia</td>\n",
       "      <td>Central &amp; Southern Asia and Oceania (CSAO)</td>\n",
       "      <td>2024</td>\n",
       "    </tr>\n",
       "    <tr>\n",
       "      <th>3</th>\n",
       "      <td>4</td>\n",
       "      <td>United States</td>\n",
       "      <td>North America</td>\n",
       "      <td>2024</td>\n",
       "    </tr>\n",
       "    <tr>\n",
       "      <th>4</th>\n",
       "      <td>5</td>\n",
       "      <td>Vietnam</td>\n",
       "      <td>Central &amp; Southern Asia and Oceania (CSAO)</td>\n",
       "      <td>2024</td>\n",
       "    </tr>\n",
       "  </tbody>\n",
       "</table>\n",
       "</div>"
      ],
      "text/plain": [
       "   Rank        Country                                      Region  Year\n",
       "0     1          India  Central & Southern Asia and Oceania (CSAO)  2024\n",
       "1     2        Nigeria                          Sub-Saharan Africa  2024\n",
       "2     3      Indonesia  Central & Southern Asia and Oceania (CSAO)  2024\n",
       "3     4  United States                               North America  2024\n",
       "4     5        Vietnam  Central & Southern Asia and Oceania (CSAO)  2024"
      ]
     },
     "execution_count": 23,
     "metadata": {},
     "output_type": "execute_result"
    }
   ],
   "source": [
    "# Keep only Rank, Country, Region, and add Year\n",
    "df_2022 = df_2022[[\"Rank\", \"Country\"]]\n",
    "df_2022[\"Year\"] = 2022\n",
    "\n",
    "df_2023 = df_2023[[\"Rank\", \"Country\", \"Region\"]]\n",
    "df_2023[\"Year\"] = 2023\n",
    "\n",
    "df_2024 = df_2024[[\"Rank\", \"Country\", \"Region\"]]\n",
    "df_2024[\"Year\"] = 2024\n",
    "\n",
    "df_2024.head()"
   ]
  },
  {
   "cell_type": "code",
   "execution_count": 24,
   "id": "cf8bbea3",
   "metadata": {},
   "outputs": [
    {
     "name": "stdout",
     "output_type": "stream",
     "text": [
      "Countries without matched region: ['Palestine', 'Côte d’Ivoire', 'Belize', 'Democratic Republic of the Congo', 'Macedonia', 'Saint Lucia', 'Congo', 'Bermuda']\n"
     ]
    }
   ],
   "source": [
    "# Create a country → region mapping from 2023\n",
    "region_map_2023 = df_2023.set_index(\"Country\")[\"Region\"].to_dict()\n",
    "\n",
    "# If Region column is missing entirely, create it first\n",
    "if \"Region\" not in df_2022.columns:\n",
    "    df_2022[\"Region\"] = None\n",
    "\n",
    "# Fill region using the map\n",
    "df_2022[\"Region\"] = df_2022[\"Country\"].map(region_map_2023)\n",
    "\n",
    "missing_regions = df_2022[df_2022[\"Region\"].isna()]\n",
    "print(\"Countries without matched region:\", missing_regions[\"Country\"].tolist())"
   ]
  },
  {
   "cell_type": "code",
   "execution_count": 25,
   "id": "7353de93",
   "metadata": {},
   "outputs": [
    {
     "name": "stdout",
     "output_type": "stream",
     "text": [
      "Countries without matched region: []\n"
     ]
    }
   ],
   "source": [
    "# Drop rows with missing Region\n",
    "df_2022 = df_2022.dropna(subset=[\"Region\"])\n",
    "missing_regions = df_2022[df_2022[\"Region\"].isna()]\n",
    "print(\"Countries without matched region:\", missing_regions[\"Country\"].tolist())"
   ]
  },
  {
   "cell_type": "code",
   "execution_count": 26,
   "id": "88712fa0",
   "metadata": {},
   "outputs": [
    {
     "data": {
      "text/html": [
       "<div>\n",
       "<style scoped>\n",
       "    .dataframe tbody tr th:only-of-type {\n",
       "        vertical-align: middle;\n",
       "    }\n",
       "\n",
       "    .dataframe tbody tr th {\n",
       "        vertical-align: top;\n",
       "    }\n",
       "\n",
       "    .dataframe thead th {\n",
       "        text-align: right;\n",
       "    }\n",
       "</style>\n",
       "<table border=\"1\" class=\"dataframe\">\n",
       "  <thead>\n",
       "    <tr style=\"text-align: right;\">\n",
       "      <th></th>\n",
       "      <th>Rank</th>\n",
       "      <th>Country</th>\n",
       "      <th>Year</th>\n",
       "      <th>Region</th>\n",
       "    </tr>\n",
       "  </thead>\n",
       "  <tbody>\n",
       "    <tr>\n",
       "      <th>0</th>\n",
       "      <td>1</td>\n",
       "      <td>Vietnam</td>\n",
       "      <td>2022</td>\n",
       "      <td>Central &amp; Southern Asia and Oceania</td>\n",
       "    </tr>\n",
       "    <tr>\n",
       "      <th>1</th>\n",
       "      <td>2</td>\n",
       "      <td>Philippines</td>\n",
       "      <td>2022</td>\n",
       "      <td>Central &amp; Southern Asia and Oceania</td>\n",
       "    </tr>\n",
       "    <tr>\n",
       "      <th>2</th>\n",
       "      <td>3</td>\n",
       "      <td>Ukraine</td>\n",
       "      <td>2022</td>\n",
       "      <td>Eastern Europe</td>\n",
       "    </tr>\n",
       "    <tr>\n",
       "      <th>3</th>\n",
       "      <td>4</td>\n",
       "      <td>India</td>\n",
       "      <td>2022</td>\n",
       "      <td>Central &amp; Southern Asia and Oceania</td>\n",
       "    </tr>\n",
       "    <tr>\n",
       "      <th>4</th>\n",
       "      <td>5</td>\n",
       "      <td>United States</td>\n",
       "      <td>2022</td>\n",
       "      <td>North America</td>\n",
       "    </tr>\n",
       "    <tr>\n",
       "      <th>...</th>\n",
       "      <td>...</td>\n",
       "      <td>...</td>\n",
       "      <td>...</td>\n",
       "      <td>...</td>\n",
       "    </tr>\n",
       "    <tr>\n",
       "      <th>439</th>\n",
       "      <td>147</td>\n",
       "      <td>Mauritius</td>\n",
       "      <td>2024</td>\n",
       "      <td>Sub-Saharan Africa</td>\n",
       "    </tr>\n",
       "    <tr>\n",
       "      <th>440</th>\n",
       "      <td>148</td>\n",
       "      <td>Belize</td>\n",
       "      <td>2024</td>\n",
       "      <td>Latin America (LATAM)</td>\n",
       "    </tr>\n",
       "    <tr>\n",
       "      <th>441</th>\n",
       "      <td>149</td>\n",
       "      <td>Rep. of Congo</td>\n",
       "      <td>2024</td>\n",
       "      <td>Sub-Saharan Africa</td>\n",
       "    </tr>\n",
       "    <tr>\n",
       "      <th>442</th>\n",
       "      <td>150</td>\n",
       "      <td>Mali</td>\n",
       "      <td>2024</td>\n",
       "      <td>Sub-Saharan Africa</td>\n",
       "    </tr>\n",
       "    <tr>\n",
       "      <th>443</th>\n",
       "      <td>151</td>\n",
       "      <td>Botswana</td>\n",
       "      <td>2024</td>\n",
       "      <td>Sub-Saharan Africa</td>\n",
       "    </tr>\n",
       "  </tbody>\n",
       "</table>\n",
       "<p>444 rows × 4 columns</p>\n",
       "</div>"
      ],
      "text/plain": [
       "     Rank        Country  Year                               Region\n",
       "0       1        Vietnam  2022  Central & Southern Asia and Oceania\n",
       "1       2    Philippines  2022  Central & Southern Asia and Oceania\n",
       "2       3        Ukraine  2022                       Eastern Europe\n",
       "3       4          India  2022  Central & Southern Asia and Oceania\n",
       "4       5  United States  2022                        North America\n",
       "..    ...            ...   ...                                  ...\n",
       "439   147      Mauritius  2024                   Sub-Saharan Africa\n",
       "440   148         Belize  2024                Latin America (LATAM)\n",
       "441   149  Rep. of Congo  2024                   Sub-Saharan Africa\n",
       "442   150           Mali  2024                   Sub-Saharan Africa\n",
       "443   151       Botswana  2024                   Sub-Saharan Africa\n",
       "\n",
       "[444 rows x 4 columns]"
      ]
     },
     "execution_count": 26,
     "metadata": {},
     "output_type": "execute_result"
    }
   ],
   "source": [
    "# Combine into one DataFrame\n",
    "GCAI_df = pd.concat([df_2022, df_2023, df_2024], ignore_index=True)\n",
    "\n",
    "# Show result\n",
    "GCAI_df"
   ]
  },
  {
   "cell_type": "code",
   "execution_count": 28,
   "id": "3917e6d3",
   "metadata": {},
   "outputs": [
    {
     "name": "stdout",
     "output_type": "stream",
     "text": [
      "2022: ['Central & Southern Asia and Oceania', 'Central Northern & Western Europe', 'Eastern Asia', 'Eastern Europe', 'Latin America', 'Middle East & North Africa', 'North America', 'Sub-Saharan Africa']\n",
      "2023: ['Central & Southern Asia and Oceania', 'Central Northern & Western Europe', 'Eastern Asia', 'Eastern Europe', 'Latin America', 'Middle East & North Africa', 'North America', 'Sub-Saharan Africa']\n",
      "2024: ['Central & Southern Asia and Oceania (CSAO)', 'Central Northern & Western Europe (CNWE)', 'Eastern Asia', 'Eastern Europe', 'Latin America (LATAM)', 'Middle East & North Africa (MENA)', 'North America', 'Sub-Saharan Africa']\n"
     ]
    }
   ],
   "source": [
    "# List unique regions for each year\n",
    "regions_2022 = df_2022[\"Region\"].dropna().unique()\n",
    "regions_2023 = df_2023[\"Region\"].dropna().unique()\n",
    "regions_2024 = df_2024[\"Region\"].dropna().unique()\n",
    "\n",
    "# Display them\n",
    "print(\"2022:\", sorted(regions_2022))\n",
    "print(\"2023:\", sorted(regions_2023))\n",
    "print(\"2024:\", sorted(regions_2024))"
   ]
  },
  {
   "cell_type": "markdown",
   "id": "05a19011",
   "metadata": {},
   "source": [
    "## Match 2024 region as 2023 and 2022"
   ]
  },
  {
   "cell_type": "code",
   "execution_count": 30,
   "id": "590d9692",
   "metadata": {},
   "outputs": [
    {
     "name": "stdout",
     "output_type": "stream",
     "text": [
      "2022: ['Central & Southern Asia and Oceania', 'Central Northern & Western Europe', 'Eastern Asia', 'Eastern Europe', 'Latin America', 'Middle East & North Africa', 'North America', 'Sub-Saharan Africa']\n",
      "2023: ['Central & Southern Asia and Oceania', 'Central Northern & Western Europe', 'Eastern Asia', 'Eastern Europe', 'Latin America', 'Middle East & North Africa', 'North America', 'Sub-Saharan Africa']\n",
      "2024: ['Central & Southern Asia and Oceania', 'Central Northern & Western Europe', 'Eastern Asia', 'Eastern Europe', 'Latin America', 'Middle East & North Africa', 'North America', 'Sub-Saharan Africa']\n"
     ]
    }
   ],
   "source": [
    "# Fix Region names ONLY for rows where Year == 2024\n",
    "GCAI_df.loc[GCAI_df[\"Year\"] == 2024, \"Region\"] = GCAI_df.loc[\n",
    "    GCAI_df[\"Year\"] == 2024, \"Region\"\n",
    "].str.replace(r\"\\s+\\(.*\\)\", \"\", regex=True)\n",
    "# Print unique regions per year\n",
    "print(\"2022:\", sorted(GCAI_df[GCAI_df[\"Year\"] == 2022][\"Region\"].dropna().unique()))\n",
    "print(\"2023:\", sorted(GCAI_df[GCAI_df[\"Year\"] == 2023][\"Region\"].dropna().unique()))\n",
    "print(\"2024:\", sorted(GCAI_df[GCAI_df[\"Year\"] == 2024][\"Region\"].dropna().unique()))"
   ]
  },
  {
   "cell_type": "markdown",
   "id": "bdd4defd",
   "metadata": {},
   "source": [
    "## 2. Importing International Migrant Stock Data (2024)\n",
    "\n",
    "We will import the Excel file containing international migrant stock data by sex, destination, and origin for the year 2024.\n",
    "\n",
    "**Source:** [undesa_pd_2024_ims_stock_by_sex_destination_and_origin.raw.xlsx](https://github.com/MIT-Emerging-Talent/ET6-CDSP-group-12-repo/blob/main/1_datasets/raw_datasets_files/undesa_pd_2024_ims_stock_by_sex_destination_and_origin.raw.xlsx)\n"
   ]
  },
  {
   "cell_type": "code",
   "execution_count": 43,
   "id": "4a297476",
   "metadata": {},
   "outputs": [],
   "source": [
    "# Raw URL of the Excel file\n",
    "migrant_stock_url = \"https://raw.githubusercontent.com/MIT-Emerging-Talent/ET6-CDSP-group-12-repo/main/1_datasets/raw_datasets_files/undesa_pd_2024_ims_stock_by_sex_destination_and_origin.raw.xlsx\"\n",
    "\n",
    "# Load the Excel file and inspect sheet names\n",
    "migrant_stock_raw_df = pd.read_excel(migrant_stock_url, sheet_name=\"Table 2\")"
   ]
  },
  {
   "cell_type": "markdown",
   "id": "078c6c6b",
   "metadata": {},
   "source": [
    "## Extract and match the region of Migrant Stock with Global Crypto Adoptation Index"
   ]
  },
  {
   "cell_type": "code",
   "execution_count": 44,
   "id": "21c1ffde",
   "metadata": {},
   "outputs": [
    {
     "name": "stdout",
     "output_type": "stream",
     "text": [
      "                              Region 2024 Migrant Stock\n",
      "0                 Sub-Saharan Africa           24306400\n",
      "1                     Eastern Africa            8302733\n",
      "2                      Middle Africa            4854994\n",
      "3                    Northern Africa            4874040\n",
      "4                       Central Asia            3910116\n",
      "5                       Eastern Asia           11559387\n",
      "6                      Southern Asia           16459536\n",
      "7                     Eastern Europe           18646093\n",
      "8                    Northern Europe           18543047\n",
      "9                    Southern Europe           20119984\n",
      "10                    Western Europe           36742379\n",
      "11   LATIN AMERICA AND THE CARIBBEAN           17510527\n",
      "12                  NORTHERN AMERICA           61207877\n",
      "13                          OCEANIA             9901164\n"
     ]
    }
   ],
   "source": [
    "# Slice rows 8 to 62 (0-based index: 7 to 61), and columns A to BE (0 to 56)\n",
    "excel_rows = [13, 38, 39, 40, 44, 45, 47, 50, 51, 52, 53, 54, 58, 59]\n",
    "row_indices = [i - 2 for i in excel_rows]\n",
    "\n",
    "# Columns B and E → indices 1 and 4\n",
    "migrant_stock_df = migrant_stock_raw_df.iloc[row_indices, [1, 4]]\n",
    "\n",
    "# Optional: Reset index and set column names\n",
    "migrant_stock_df.columns = [\"Region\", \"2024 Migrant Stock\"]\n",
    "migrant_stock_df = migrant_stock_df.reset_index(drop=True)\n",
    "# Display the cleaned DataFrame\n",
    "print(migrant_stock_df)"
   ]
  }
 ],
 "metadata": {
  "kernelspec": {
   "display_name": "Python 3",
   "language": "python",
   "name": "python3"
  },
  "language_info": {
   "codemirror_mode": {
    "name": "ipython",
    "version": 3
   },
   "file_extension": ".py",
   "mimetype": "text/x-python",
   "name": "python",
   "nbconvert_exporter": "python",
   "pygments_lexer": "ipython3",
   "version": "3.9.12"
  }
 },
 "nbformat": 4,
 "nbformat_minor": 5
}
